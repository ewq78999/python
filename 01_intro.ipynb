{
 "cells": [
  {
   "cell_type": "markdown",
   "id": "a5a25a05-0015-4968-970a-df292c51efa6",
   "metadata": {},
   "source": [
    "# 01. intro\n",
    "\n",
    "## 단축키\n",
    "\n",
    "- ctrl + enter : 지금 셀 실행\n",
    "- shift + enter : 지금 셀 실행 & 아래로 이동\n",
    "- alt + enter : 지금 셀 실행 & 아래에 새로운 셀 추가\n",
    "\n",
    "## 주의사항\n",
    "\n",
    "1. Apple / apple\n",
    "2. git add . / git add.\n",
    "3. message / massage"
   ]
  },
  {
   "cell_type": "code",
   "execution_count": 10,
   "id": "66eaded7-070f-470f-b1d1-edae6613f2fb",
   "metadata": {},
   "outputs": [],
   "source": [
    "# 주석을 나타냅니다."
   ]
  },
  {
   "cell_type": "markdown",
   "id": "d692c2b1-5a18-41e1-a28a-815a3da7f402",
   "metadata": {},
   "source": [
    "# 1. 변수\n",
    "\n",
    "변수이름 = 값\n",
    "\n",
    "- 변수이름은 어떤 이름이든 상관 없음\n",
    "- 다만 영어, 숫자, _ 를 이용하여 선언\n",
    "- 키워드는 사용 불가"
   ]
  },
  {
   "cell_type": "code",
   "execution_count": 12,
   "id": "e2efd9e9-b779-4af6-97b5-23700d4133f3",
   "metadata": {},
   "outputs": [],
   "source": [
    "a = 10"
   ]
  },
  {
   "cell_type": "code",
   "execution_count": 13,
   "id": "22bf9179-516a-4206-be3e-486585ebbe0a",
   "metadata": {},
   "outputs": [
    {
     "data": {
      "text/plain": [
       "10"
      ]
     },
     "execution_count": 13,
     "metadata": {},
     "output_type": "execute_result"
    }
   ],
   "source": [
    "a"
   ]
  },
  {
   "cell_type": "code",
   "execution_count": 14,
   "id": "478d001d-799a-4641-894a-078bbb62c7c8",
   "metadata": {},
   "outputs": [
    {
     "data": {
      "text/plain": [
       "['False',\n",
       " 'None',\n",
       " 'True',\n",
       " 'and',\n",
       " 'as',\n",
       " 'assert',\n",
       " 'async',\n",
       " 'await',\n",
       " 'break',\n",
       " 'class',\n",
       " 'continue',\n",
       " 'def',\n",
       " 'del',\n",
       " 'elif',\n",
       " 'else',\n",
       " 'except',\n",
       " 'finally',\n",
       " 'for',\n",
       " 'from',\n",
       " 'global',\n",
       " 'if',\n",
       " 'import',\n",
       " 'in',\n",
       " 'is',\n",
       " 'lambda',\n",
       " 'nonlocal',\n",
       " 'not',\n",
       " 'or',\n",
       " 'pass',\n",
       " 'raise',\n",
       " 'return',\n",
       " 'try',\n",
       " 'while',\n",
       " 'with',\n",
       " 'yield']"
      ]
     },
     "execution_count": 14,
     "metadata": {},
     "output_type": "execute_result"
    }
   ],
   "source": [
    "import keyword\n",
    "keyword.kwlist"
   ]
  },
  {
   "cell_type": "markdown",
   "id": "de00b9ab-6552-452a-8455-0be5731b4583",
   "metadata": {},
   "source": [
    "### 1.1 number"
   ]
  },
  {
   "cell_type": "code",
   "execution_count": 17,
   "id": "fd1a8f11-f070-4b8f-9895-9c244de5ae20",
   "metadata": {},
   "outputs": [],
   "source": [
    "a = 10000000"
   ]
  },
  {
   "cell_type": "code",
   "execution_count": 18,
   "id": "ce72dbbd-01a9-484c-b14a-ea4613d55536",
   "metadata": {},
   "outputs": [
    {
     "data": {
      "text/plain": [
       "10000000"
      ]
     },
     "execution_count": 18,
     "metadata": {},
     "output_type": "execute_result"
    }
   ],
   "source": [
    "a"
   ]
  },
  {
   "cell_type": "code",
   "execution_count": 19,
   "id": "35eb2ac7-7e34-4bf2-a9af-b551274ba15d",
   "metadata": {},
   "outputs": [
    {
     "data": {
      "text/plain": [
       "int"
      ]
     },
     "execution_count": 19,
     "metadata": {},
     "output_type": "execute_result"
    }
   ],
   "source": [
    "type(a)"
   ]
  },
  {
   "cell_type": "code",
   "execution_count": 20,
   "id": "7c2a1b89-ce97-4e06-9cd7-85d57175a768",
   "metadata": {},
   "outputs": [],
   "source": [
    "b = 1.1"
   ]
  },
  {
   "cell_type": "code",
   "execution_count": 21,
   "id": "4f4c0475-3964-478b-b14e-41f8f0896dd8",
   "metadata": {},
   "outputs": [
    {
     "data": {
      "text/plain": [
       "1.1"
      ]
     },
     "execution_count": 21,
     "metadata": {},
     "output_type": "execute_result"
    }
   ],
   "source": [
    "b"
   ]
  },
  {
   "cell_type": "code",
   "execution_count": 22,
   "id": "c44f513e-29de-4807-b63c-38d7cf1c3f0a",
   "metadata": {},
   "outputs": [
    {
     "data": {
      "text/plain": [
       "float"
      ]
     },
     "execution_count": 22,
     "metadata": {},
     "output_type": "execute_result"
    }
   ],
   "source": [
    "type(b)"
   ]
  },
  {
   "cell_type": "code",
   "execution_count": 23,
   "id": "f0138e2e-7bba-4f12-910c-addac4d403ff",
   "metadata": {},
   "outputs": [],
   "source": [
    "c = 1 - 4j"
   ]
  },
  {
   "cell_type": "code",
   "execution_count": 24,
   "id": "284e3881-316a-4168-9f08-2ac81c9c2318",
   "metadata": {},
   "outputs": [
    {
     "data": {
      "text/plain": [
       "(1-4j)"
      ]
     },
     "execution_count": 24,
     "metadata": {},
     "output_type": "execute_result"
    }
   ],
   "source": [
    "c"
   ]
  },
  {
   "cell_type": "code",
   "execution_count": 25,
   "id": "46163b98-89c3-4d3f-8a0e-247583157775",
   "metadata": {},
   "outputs": [
    {
     "data": {
      "text/plain": [
       "complex"
      ]
     },
     "execution_count": 25,
     "metadata": {},
     "output_type": "execute_result"
    }
   ],
   "source": [
    "type(c)"
   ]
  },
  {
   "cell_type": "code",
   "execution_count": 26,
   "id": "889c2080-6681-4303-a2dd-2416ec734170",
   "metadata": {},
   "outputs": [
    {
     "data": {
      "text/plain": [
       "-4.0"
      ]
     },
     "execution_count": 26,
     "metadata": {},
     "output_type": "execute_result"
    }
   ],
   "source": [
    "c.imag"
   ]
  },
  {
   "cell_type": "code",
   "execution_count": 27,
   "id": "32e0b185-a1fc-4a21-b41d-063d4980ff8e",
   "metadata": {},
   "outputs": [
    {
     "data": {
      "text/plain": [
       "1.0"
      ]
     },
     "execution_count": 27,
     "metadata": {},
     "output_type": "execute_result"
    }
   ],
   "source": [
    "c.real"
   ]
  },
  {
   "cell_type": "markdown",
   "id": "ab08d980-788f-4f01-b3fd-25aba4cf6e4e",
   "metadata": {},
   "source": [
    "### 1.2 Boolean\n",
    "\n",
    "True, Flase로 이루어진 타입"
   ]
  },
  {
   "cell_type": "code",
   "execution_count": 28,
   "id": "d0490886-5a2e-4438-8971-48bf5684f0f7",
   "metadata": {},
   "outputs": [],
   "source": [
    "a = True"
   ]
  },
  {
   "cell_type": "code",
   "execution_count": 30,
   "id": "1f1d59f6-bbeb-4e3d-a24b-10e856503924",
   "metadata": {},
   "outputs": [
    {
     "data": {
      "text/plain": [
       "bool"
      ]
     },
     "execution_count": 30,
     "metadata": {},
     "output_type": "execute_result"
    }
   ],
   "source": [
    "type(a)"
   ]
  },
  {
   "cell_type": "code",
   "execution_count": 32,
   "id": "6ea61d7d-600d-4207-889b-2d8f351c8a5d",
   "metadata": {},
   "outputs": [],
   "source": [
    "b = False"
   ]
  },
  {
   "cell_type": "code",
   "execution_count": 33,
   "id": "98de8246-58ae-4a87-90a2-c1f90057654b",
   "metadata": {},
   "outputs": [
    {
     "data": {
      "text/plain": [
       "bool"
      ]
     },
     "execution_count": 33,
     "metadata": {},
     "output_type": "execute_result"
    }
   ],
   "source": [
    "type(b)"
   ]
  },
  {
   "cell_type": "code",
   "execution_count": 38,
   "id": "e4066ff5-cd82-4637-a96e-fe3f859bce7a",
   "metadata": {},
   "outputs": [
    {
     "data": {
      "text/plain": [
       "True"
      ]
     },
     "execution_count": 38,
     "metadata": {},
     "output_type": "execute_result"
    }
   ],
   "source": [
    "bool([1])"
   ]
  },
  {
   "cell_type": "markdown",
   "id": "f216ad1e-505d-45f8-9aa7-30dfae136f34",
   "metadata": {},
   "source": [
    "### 1.3 None"
   ]
  },
  {
   "cell_type": "code",
   "execution_count": 39,
   "id": "38ab6c7b-84da-4056-9630-641ed0fe2613",
   "metadata": {},
   "outputs": [],
   "source": [
    "a = None"
   ]
  },
  {
   "cell_type": "code",
   "execution_count": 40,
   "id": "ce291d51-b7a8-493d-be17-22443cbe66f2",
   "metadata": {},
   "outputs": [
    {
     "data": {
      "text/plain": [
       "NoneType"
      ]
     },
     "execution_count": 40,
     "metadata": {},
     "output_type": "execute_result"
    }
   ],
   "source": [
    "type(a)"
   ]
  },
  {
   "cell_type": "markdown",
   "id": "efa16645-fb41-4c74-9676-a7ff72ec506c",
   "metadata": {},
   "source": [
    "### 1.4 String\n",
    "\n",
    "- 문자열은 `'` `\"`를 이용하여 표현 (둘 중 하나를 선택)"
   ]
  },
  {
   "cell_type": "markdown",
   "id": "2d3f7c96-3add-4cdf-9e57-5c62034ae321",
   "metadata": {},
   "source": [
    "a = 'hello'"
   ]
  },
  {
   "cell_type": "code",
   "execution_count": 42,
   "id": "24135774-2cdb-421f-b7aa-6e63de31d86c",
   "metadata": {},
   "outputs": [
    {
     "data": {
      "text/plain": [
       "str"
      ]
     },
     "execution_count": 42,
     "metadata": {},
     "output_type": "execute_result"
    }
   ],
   "source": [
    "type(a)"
   ]
  },
  {
   "cell_type": "code",
   "execution_count": 43,
   "id": "908c80a3-08f4-4dd7-8fde-e246b4cf0716",
   "metadata": {},
   "outputs": [],
   "source": [
    "b = \"world\""
   ]
  },
  {
   "cell_type": "code",
   "execution_count": 44,
   "id": "b1ca9006-8952-44f8-aa2a-e819f4764ffb",
   "metadata": {},
   "outputs": [
    {
     "data": {
      "text/plain": [
       "str"
      ]
     },
     "execution_count": 44,
     "metadata": {},
     "output_type": "execute_result"
    }
   ],
   "source": [
    "type(b)"
   ]
  },
  {
   "cell_type": "code",
   "execution_count": 47,
   "id": "4e093a7d-a972-4dd0-9280-1a50bfca72c9",
   "metadata": {},
   "outputs": [],
   "source": [
    "# 혼용할 경우 단순 작동에는 이상이 없지만 추후 문제 발생 가능성 있음"
   ]
  },
  {
   "cell_type": "raw",
   "id": "f78c31c4-e542-4af4-9484-91fe469ab088",
   "metadata": {},
   "source": [
    "age = input()\n",
    "print(age)\n",
    "print (type(age))"
   ]
  },
  {
   "cell_type": "code",
   "execution_count": 50,
   "id": "4e0b1cb7-484b-4843-a8d1-b16bc5491588",
   "metadata": {},
   "outputs": [
    {
     "ename": "SyntaxError",
     "evalue": "invalid syntax. Perhaps you forgot a comma? (950898810.py, line 1)",
     "output_type": "error",
     "traceback": [
      "\u001b[1;36m  Cell \u001b[1;32mIn[50], line 1\u001b[1;36m\u001b[0m\n\u001b[1;33m    print('안녕하세요? '오창희'입니다.')\u001b[0m\n\u001b[1;37m          ^\u001b[0m\n\u001b[1;31mSyntaxError\u001b[0m\u001b[1;31m:\u001b[0m invalid syntax. Perhaps you forgot a comma?\n"
     ]
    }
   ],
   "source": [
    "print('안녕하세요? '오창희'입니다.')"
   ]
  },
  {
   "cell_type": "code",
   "execution_count": 51,
   "id": "1caaeceb-df3c-4af0-b8fd-4b632f57cac7",
   "metadata": {},
   "outputs": [
    {
     "name": "stdout",
     "output_type": "stream",
     "text": [
      "안녕하세요? \"오창희\"입니다.\n"
     ]
    }
   ],
   "source": [
    "print('안녕하세요? \"오창희\"입니다.')"
   ]
  },
  {
   "cell_type": "code",
   "execution_count": 53,
   "id": "55b40c5e-ff26-4cfe-bbea-dcba95ad7fc9",
   "metadata": {},
   "outputs": [],
   "source": [
    "# 이때 충돌 방지 위해 따옴표 혼용"
   ]
  },
  {
   "cell_type": "code",
   "execution_count": 54,
   "id": "dea9abb0-6431-4d45-95b8-423764182eaa",
   "metadata": {},
   "outputs": [
    {
     "name": "stdout",
     "output_type": "stream",
     "text": [
      "안녕하세요? '오창희'입니다.\n"
     ]
    }
   ],
   "source": [
    "print('안녕하세요? \\'오창희\\'입니다.')"
   ]
  },
  {
   "cell_type": "code",
   "execution_count": 56,
   "id": "abcf46f2-e504-4cf2-9449-0cdb8d10cf79",
   "metadata": {},
   "outputs": [],
   "source": [
    "a = '''\n",
    "여기는 문자열입니다.\n",
    "엔터를 쳐서 여러줄을 작성할 수 있습니다.\n",
    "'''"
   ]
  },
  {
   "cell_type": "code",
   "execution_count": 57,
   "id": "227446a0-876c-4159-ba99-9479f2bbf33f",
   "metadata": {},
   "outputs": [
    {
     "name": "stdout",
     "output_type": "stream",
     "text": [
      "\n",
      "여기는 문자열입니다.\n",
      "엔터를 쳐서 여러줄을 작성할 수 있습니다.\n",
      "\n"
     ]
    }
   ],
   "source": [
    "print(a)"
   ]
  },
  {
   "cell_type": "code",
   "execution_count": 59,
   "id": "a12d5f52-5385-4502-8995-3b4cd8832206",
   "metadata": {},
   "outputs": [
    {
     "name": "stdout",
     "output_type": "stream",
     "text": [
      "엔터를 입력해봐요 \n",
      "다음줄입니다. \t들여쓰기도 가능합니다\n"
     ]
    }
   ],
   "source": [
    "print('엔터를 입력해봐요 \\n다음줄입니다. \\t들여쓰기도 가능합니다')"
   ]
  },
  {
   "cell_type": "code",
   "execution_count": 60,
   "id": "53d69324-75dc-4fe8-96cc-1da617299cc7",
   "metadata": {},
   "outputs": [
    {
     "name": "stdout",
     "output_type": "stream",
     "text": [
      "하나 둘 셋\n"
     ]
    }
   ],
   "source": [
    "print('하나', '둘', '셋')"
   ]
  },
  {
   "cell_type": "code",
   "execution_count": 66,
   "id": "f621ccf1-f6cf-4800-a28b-597de9fde705",
   "metadata": {},
   "outputs": [
    {
     "name": "stdout",
     "output_type": "stream",
     "text": [
      "하나!둘!셋\n"
     ]
    }
   ],
   "source": [
    "print('하나', '둘', '셋', sep='!')"
   ]
  },
  {
   "cell_type": "code",
   "execution_count": 67,
   "id": "c234f727-43d2-4ba4-a5fb-99cac9a4bb05",
   "metadata": {},
   "outputs": [
    {
     "name": "stdout",
     "output_type": "stream",
     "text": [
      "하나\t둘\t셋\n"
     ]
    }
   ],
   "source": [
    "print('하나', '둘', '셋', sep='\\t')"
   ]
  },
  {
   "cell_type": "markdown",
   "id": "6623bae4-2905-4630-8bfb-0f8b67a1da05",
   "metadata": {},
   "source": [
    "#### string interepolation\n",
    "\n",
    "1. %-formatting\n",
    "2. str.format()\n",
    "3. f-string"
   ]
  },
  {
   "cell_type": "code",
   "execution_count": 68,
   "id": "8b6ce951-013f-4b62-b0a1-2e98c30924cc",
   "metadata": {},
   "outputs": [],
   "source": [
    "age = 20"
   ]
  },
  {
   "cell_type": "code",
   "execution_count": 69,
   "id": "a9726652-754d-4d6c-99d8-c35ddd769f92",
   "metadata": {},
   "outputs": [
    {
     "name": "stdout",
     "output_type": "stream",
     "text": [
      "홍길동은 20살입니다.\n"
     ]
    }
   ],
   "source": [
    "print('홍길동은 %s살입니다.' % age)"
   ]
  },
  {
   "cell_type": "code",
   "execution_count": 71,
   "id": "76f76b08-2cd0-43e6-a2c8-66b46b823e61",
   "metadata": {},
   "outputs": [
    {
     "name": "stdout",
     "output_type": "stream",
     "text": [
      "홍길동은 20살입니다.\n"
     ]
    }
   ],
   "source": [
    "print('홍길동은 {}살입니다.'.format(age))"
   ]
  },
  {
   "cell_type": "code",
   "execution_count": 73,
   "id": "b03ef95c-1452-40ab-9886-a1701e2a9d1b",
   "metadata": {},
   "outputs": [
    {
     "name": "stdout",
     "output_type": "stream",
     "text": [
      "홍길동은 20살입니다.\n"
     ]
    }
   ],
   "source": [
    "print(f'홍길동은 {age}살입니다.')"
   ]
  },
  {
   "cell_type": "code",
   "execution_count": null,
   "id": "8d1c6688-6a89-4bd8-b860-29b2b862094b",
   "metadata": {},
   "outputs": [],
   "source": []
  },
  {
   "cell_type": "code",
   "execution_count": null,
   "id": "df8aba8c-bbaa-4508-a317-beaa208ab881",
   "metadata": {},
   "outputs": [],
   "source": []
  },
  {
   "cell_type": "code",
   "execution_count": null,
   "id": "ae2b2db1-1efc-460b-b5e3-5df45a8b907e",
   "metadata": {},
   "outputs": [],
   "source": []
  },
  {
   "cell_type": "code",
   "execution_count": null,
   "id": "3858d0ea-e8f6-41eb-8c7e-94da41cc0a4e",
   "metadata": {},
   "outputs": [],
   "source": []
  },
  {
   "cell_type": "code",
   "execution_count": null,
   "id": "da66ddc6-a062-42f6-b14a-b722e2305602",
   "metadata": {},
   "outputs": [],
   "source": []
  },
  {
   "cell_type": "code",
   "execution_count": null,
   "id": "ce17d1ec-077b-4076-9fd9-c6799a1e7b8c",
   "metadata": {},
   "outputs": [],
   "source": []
  },
  {
   "cell_type": "code",
   "execution_count": null,
   "id": "e7d2416f-2d9e-46bf-8986-5a30546049fa",
   "metadata": {},
   "outputs": [],
   "source": []
  }
 ],
 "metadata": {
  "kernelspec": {
   "display_name": "Python 3 (ipykernel)",
   "language": "python",
   "name": "python3"
  },
  "language_info": {
   "codemirror_mode": {
    "name": "ipython",
    "version": 3
   },
   "file_extension": ".py",
   "mimetype": "text/x-python",
   "name": "python",
   "nbconvert_exporter": "python",
   "pygments_lexer": "ipython3",
   "version": "3.11.4"
  }
 },
 "nbformat": 4,
 "nbformat_minor": 5
}
