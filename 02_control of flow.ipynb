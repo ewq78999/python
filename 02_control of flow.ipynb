{
 "cells": [
  {
   "cell_type": "markdown",
   "id": "0249bdc0-d17f-4c5c-a00c-fb29bf0e293c",
   "metadata": {},
   "source": [
    "# 제어문\n",
    "\n"
   ]
  },
  {
   "cell_type": "markdown",
   "id": "545b47c9-5293-45f1-b7fd-a67b76dce366",
   "metadata": {},
   "source": [
    "## 조건문 (if문)\n",
    "\n",
    "1. `if` 문은 반드시 일정한 참/거짓을 판단할 수 있는 `조건식`과 함께 사용한다. (`if <조건식>:`)\n",
    "\n",
    "2-1. `<조건식>`이 참인 경우 `:` 이후의 문장을 실행한다.\n",
    "   \n",
    "2-2. `<조건식>`이 거짓인 경우 `else:` 이후의 문장을 실행한다."
   ]
  },
  {
   "cell_type": "code",
   "execution_count": 2,
   "id": "51081bd0-fc3e-4633-a426-4a7bd47793a3",
   "metadata": {},
   "outputs": [
    {
     "name": "stdin",
     "output_type": "stream",
     "text": [
      " 123\n"
     ]
    },
    {
     "name": "stdout",
     "output_type": "stream",
     "text": [
      "크리스마스가 아닙니다.\n"
     ]
    }
   ],
   "source": [
    "my_string = input()\n",
    "\n",
    "if my_string == '12/25':\n",
    "    print('크리스마스입니다.')\n",
    "else:\n",
    "    print('크리스마스가 아닙니다.')"
   ]
  },
  {
   "cell_type": "code",
   "execution_count": 18,
   "id": "73d54277-8773-42be-a254-8f3755779072",
   "metadata": {},
   "outputs": [
    {
     "name": "stdin",
     "output_type": "stream",
     "text": [
      "숫자를 입력해주시요 123\n"
     ]
    },
    {
     "name": "stdout",
     "output_type": "stream",
     "text": [
      "123\n",
      "<class 'str'>\n"
     ]
    }
   ],
   "source": [
    "num = input('숫자를 입력해주시요')\n",
    "print(num)\n",
    "print(type(num))\n",
    "num = int(num)"
   ]
  },
  {
   "cell_type": "code",
   "execution_count": 20,
   "id": "8796662b-39e8-4abe-9812-f0568321b207",
   "metadata": {},
   "outputs": [
    {
     "name": "stdout",
     "output_type": "stream",
     "text": [
      "홀수입니다.\n"
     ]
    }
   ],
   "source": [
    "# 조건문을 사용해서 num에 들어있는 숫자가 홀수/짝수 인지 판별\n",
    "\n",
    "if (num % 2) == 0:\n",
    "    print('짝수입니다.')\n",
    "else:\n",
    "    print('홀수입니다.')\n"
   ]
  },
  {
   "cell_type": "code",
   "execution_count": 21,
   "id": "95f49f62-f470-4181-b2d1-5171c589d9f6",
   "metadata": {},
   "outputs": [
    {
     "name": "stdout",
     "output_type": "stream",
     "text": [
      "홀수입니다.\n"
     ]
    }
   ],
   "source": [
    "if (num % 2) == 1:\n",
    "    print('홀수입니다.')\n",
    "else:\n",
    "    print('짝수입니다.')"
   ]
  },
  {
   "cell_type": "code",
   "execution_count": 22,
   "id": "6d211613-ebd9-459b-94ce-d53f3b7d2bdd",
   "metadata": {},
   "outputs": [
    {
     "name": "stdout",
     "output_type": "stream",
     "text": [
      "홀수입니다.\n"
     ]
    }
   ],
   "source": [
    "# num을 2로 나눈 나머지는 0, 1 두가지 경우가 있다.\n",
    "# if문의 조건식에 0, 1은 자동형변환이 일어나 Flase, True로 변환된다.\n",
    "\n",
    "if num % 2:\n",
    "    print('홀수입니다.')\n",
    "else:\n",
    "    print('짝수입니다')"
   ]
  },
  {
   "cell_type": "markdown",
   "id": "f9b2e2d5-1975-4b2a-8a46-b887d32ac39c",
   "metadata": {},
   "source": [
    "### elif\n",
    "\n",
    "```\n",
    "if <조건식>:\n",
    "    if 조건이 참인 경우 실행\n",
    "elif <조건식>:\n",
    "    elif 조건이 참인 경우 실행\n",
    "'''\n",
    "else:\n",
    "    위의 조건식에 하나도 부합하지 않는 경우 실행\n",
    "```\n"
   ]
  },
  {
   "cell_type": "code",
   "execution_count": 46,
   "id": "9e45b2ed-4f35-4be3-b5b8-c6b802deb033",
   "metadata": {},
   "outputs": [
    {
     "name": "stdin",
     "output_type": "stream",
     "text": [
      " 96\n"
     ]
    }
   ],
   "source": [
    "score = int(input())"
   ]
  },
  {
   "cell_type": "code",
   "execution_count": 60,
   "id": "352cd995-0fd0-4304-a38d-00d4f0f6313d",
   "metadata": {},
   "outputs": [
    {
     "name": "stdout",
     "output_type": "stream",
     "text": [
      "A\n",
      "참 잘했어요\n"
     ]
    }
   ],
   "source": [
    "# 90점 이상 A (95점 이상 '참 잘했어요')\n",
    "# 80점 이상 B\n",
    "# 70점 이상 C\n",
    "# 나머지 F\n",
    "\n",
    "if score >= 90:\n",
    "    print('A')\n",
    "    if score >= 95:\n",
    "        print('참 잘했어요')\n",
    "elif score >= 80:\n",
    "    print('B')\n",
    "elif score >= 70:\n",
    "    print('C')\n",
    "else:\n",
    "    print('F')"
   ]
  },
  {
   "cell_type": "markdown",
   "id": "23c80057-b27c-4b0e-ac08-af0230c04709",
   "metadata": {},
   "source": [
    "## 조건표현식\n",
    "\n",
    "```\n",
    "    true_value if<조건식> else false_value\n",
    "```"
   ]
  },
  {
   "cell_type": "code",
   "execution_count": 62,
   "id": "d63b6f72-24dc-4795-8cfe-61e748645ee0",
   "metadata": {},
   "outputs": [
    {
     "name": "stdout",
     "output_type": "stream",
     "text": [
      "True\n",
      "Flase\n"
     ]
    }
   ],
   "source": [
    "print('True') if 1 > 0 else print('Flase')\n",
    "print('True') if 1 < 0 else print('Flase')"
   ]
  },
  {
   "cell_type": "code",
   "execution_count": 68,
   "id": "80f3d036-d159-4e8f-9b76-60f0ba2b691c",
   "metadata": {},
   "outputs": [
    {
     "name": "stdout",
     "output_type": "stream",
     "text": [
      "True\n",
      "False\n"
     ]
    }
   ],
   "source": [
    "#위와 동일 형태\n",
    "if 1>0:\n",
    "    print('True')\n",
    "else:\n",
    "    print('False') \n",
    "if 1<0:\n",
    "    print('True')\n",
    "else:\n",
    "    print('False')"
   ]
  },
  {
   "cell_type": "code",
   "execution_count": 76,
   "id": "31af8750-afdb-48eb-ace3-a877f0cdbd4a",
   "metadata": {},
   "outputs": [
    {
     "name": "stdout",
     "output_type": "stream",
     "text": [
      "5\n"
     ]
    }
   ],
   "source": [
    "num = 5\n",
    "value = num if num >=0 else 0\n",
    "print(value)"
   ]
  },
  {
   "cell_type": "code",
   "execution_count": 77,
   "id": "0cb46425-ec8d-4efa-b6cc-596191045466",
   "metadata": {},
   "outputs": [
    {
     "name": "stdout",
     "output_type": "stream",
     "text": [
      "5\n"
     ]
    }
   ],
   "source": [
    "num = 5\n",
    "if num >= 0:\n",
    "    value = num\n",
    "else: \n",
    "    value = 0\n",
    "print(value)"
   ]
  },
  {
   "cell_type": "code",
   "execution_count": 81,
   "id": "ac9cf74e-5d66-48a6-b871-f75c88901bc4",
   "metadata": {},
   "outputs": [
    {
     "name": "stdout",
     "output_type": "stream",
     "text": [
      "짝수\n"
     ]
    }
   ],
   "source": [
    "num = 2\n",
    "if num % 2 == 1:\n",
    "    result = '홀수'\n",
    "else:\n",
    "    result = '짝수'\n",
    "    \n",
    "print(result)"
   ]
  },
  {
   "cell_type": "code",
   "execution_count": 82,
   "id": "890c9523-c275-4300-bd2f-0e9fa636bac3",
   "metadata": {},
   "outputs": [
    {
     "name": "stdout",
     "output_type": "stream",
     "text": [
      "짝수\n"
     ]
    }
   ],
   "source": [
    "num =2\n",
    "result = '홀수' if num % 2 == 1 else '짝수'\n",
    "print(result)"
   ]
  },
  {
   "cell_type": "code",
   "execution_count": 83,
   "id": "32a396ab-c560-4134-aa1f-f5923a021976",
   "metadata": {},
   "outputs": [
    {
     "name": "stdout",
     "output_type": "stream",
     "text": [
      "odd\n"
     ]
    }
   ],
   "source": [
    "num =2\n",
    "value = 'even' if num % 2 == 1 else 'odd'\n",
    "print(value)"
   ]
  },
  {
   "cell_type": "markdown",
   "id": "c462fb8e-87c4-483c-a08e-d8bcd8f7d02f",
   "metadata": {},
   "source": [
    "# 반복문\n",
    "\n",
    "\n",
    "## while 문\n",
    "\n",
    "```\n",
    "while <조건식>:\n",
    "    실행할 코드\n",
    "```"
   ]
  },
  {
   "cell_type": "code",
   "execution_count": 1,
   "id": "89d69109-fba4-4eba-9b8f-6368e3f98364",
   "metadata": {},
   "outputs": [
    {
     "name": "stdout",
     "output_type": "stream",
     "text": [
      "0\n",
      "1\n",
      "2\n",
      "3\n",
      "4\n"
     ]
    }
   ],
   "source": [
    "a = 0\n",
    "\n",
    "while a < 5:\n",
    "    print(a)\n",
    "    a += 1\n",
    "    # a = a + 1"
   ]
  },
  {
   "cell_type": "code",
   "execution_count": 54,
   "id": "a8fd6def-3e5c-4bfc-b9f4-7fc18f031062",
   "metadata": {},
   "outputs": [
    {
     "ename": "SyntaxError",
     "evalue": "invalid syntax (1679180237.py, line 4)",
     "output_type": "error",
     "traceback": [
      "\u001b[1;36m  Cell \u001b[1;32mIn[54], line 4\u001b[1;36m\u001b[0m\n\u001b[1;33m    while greeting !== '안녕':  # 왼쪽과 오른쪽이 다른가 물어볼 땐 ! 사용\u001b[0m\n\u001b[1;37m                     ^\u001b[0m\n\u001b[1;31mSyntaxError\u001b[0m\u001b[1;31m:\u001b[0m invalid syntax\n"
     ]
    }
   ],
   "source": [
    "# 사용자가 '안녕'이록 할때까지 계속 입력을 요청받는 코드\n",
    "greeting = ''\n",
    "\n",
    "while greeting !== '안녕':\n",
    "    pri\n"
   ]
  },
  {
   "cell_type": "markdown",
   "id": "660e8a9b-a2a7-4cc6-b226-78a64e54b35e",
   "metadata": {},
   "source": [
    "## for\n",
    "\n",
    "정해진 범위 내의 반복\n",
    "\n",
    "    for variable in sequence\n",
    "        code"
   ]
  },
  {
   "cell_type": "code",
   "execution_count": 10,
   "id": "d92e5bcc-6447-458e-bd59-884c0945ea28",
   "metadata": {},
   "outputs": [
    {
     "name": "stdout",
     "output_type": "stream",
     "text": [
      "1\n",
      "2\n",
      "3\n",
      "4\n",
      "5\n"
     ]
    }
   ],
   "source": [
    "numbers = [1, 2, 3, 4, 5]\n",
    "\n",
    "for number in numbers: \n",
    "    print(number)"
   ]
  },
  {
   "cell_type": "code",
   "execution_count": 13,
   "id": "d84751d3-5d14-4f68-bf4e-fd635fc0a322",
   "metadata": {},
   "outputs": [
    {
     "name": "stdin",
     "output_type": "stream",
     "text": [
      "단어를 입력해주세요:  apple\n"
     ]
    },
    {
     "name": "stdout",
     "output_type": "stream",
     "text": [
      "a\n",
      "p\n",
      "p\n",
      "l\n",
      "e\n"
     ]
    }
   ],
   "source": [
    "# for문을 사용해서 사용자가 입력한 데이터를 한글자씩 출력하는 코드\n",
    "\n",
    "word = input('단어를 입력해주세요: ')\n",
    "\n",
    "for character in word:\n",
    "    print(character) "
   ]
  },
  {
   "cell_type": "code",
   "execution_count": 14,
   "id": "56b5c651-8ae9-4591-a3d9-d8503ed69d41",
   "metadata": {},
   "outputs": [
    {
     "name": "stdout",
     "output_type": "stream",
     "text": [
      "0\n",
      "1\n",
      "2\n",
      "3\n",
      "4\n"
     ]
    }
   ],
   "source": [
    "for i in range(5):\n",
    "    print(i)"
   ]
  },
  {
   "cell_type": "code",
   "execution_count": 15,
   "id": "38bea1ab-3e2c-4b49-8558-c38ec67cb581",
   "metadata": {},
   "outputs": [
    {
     "name": "stdout",
     "output_type": "stream",
     "text": [
      "1\n",
      "2\n",
      "3\n",
      "4\n",
      "5\n"
     ]
    }
   ],
   "source": [
    "for i in (1, 2, 3, 4, 5):\n",
    "    print(i)"
   ]
  },
  {
   "cell_type": "code",
   "execution_count": 37,
   "id": "521f26cf-50ca-4f8f-be4d-00bf8214e53f",
   "metadata": {},
   "outputs": [
    {
     "name": "stdout",
     "output_type": "stream",
     "text": [
      "1\n",
      "3\n",
      "5\n",
      "7\n",
      "9\n",
      "11\n",
      "13\n",
      "15\n",
      "17\n",
      "19\n",
      "21\n",
      "23\n",
      "25\n",
      "27\n",
      "29\n",
      "[1, 3, 5, 7, 9, 11, 13, 15, 17, 19, 21, 23, 25, 27, 29]\n"
     ]
    }
   ],
   "source": [
    "# 1. 1~30까지 숫자 중에서 홀수 출력\n",
    "# 2. 1~30까지 숫자 중에서 홀수들을 모아 리스트로 출력\n",
    "\n",
    "nums = range(31)\n",
    "result = []\n",
    "for num in nums:\n",
    "    if num % 2 == 1:\n",
    "        print(num)\n",
    "        result.append(num)\n",
    "\n",
    "print(result)\n",
    "        \n",
    "    "
   ]
  },
  {
   "cell_type": "code",
   "execution_count": 58,
   "id": "65224db4-228d-47c1-859b-32f0f13370c7",
   "metadata": {},
   "outputs": [
    {
     "name": "stdout",
     "output_type": "stream",
     "text": [
      "(0, '라면')\n",
      "(1, '김밥')\n",
      "(2, '돈까스')\n"
     ]
    }
   ],
   "source": [
    "menus = ['라면', '김밥', '돈까스']\n",
    "\n",
    "for menu in enumerate(menus):\n",
    "    print(menu)"
   ]
  },
  {
   "cell_type": "code",
   "execution_count": 60,
   "id": "b49f2b97-ccdf-47c8-8a45-7e8d4ca081d5",
   "metadata": {},
   "outputs": [
    {
     "data": {
      "text/plain": [
       "<enumerate at 0x14604daa8e0>"
      ]
     },
     "execution_count": 60,
     "metadata": {},
     "output_type": "execute_result"
    }
   ],
   "source": [
    "enumerate(menus)"
   ]
  },
  {
   "cell_type": "code",
   "execution_count": 61,
   "id": "34e746cd-d633-4fab-be4d-564359c012cb",
   "metadata": {},
   "outputs": [
    {
     "name": "stdout",
     "output_type": "stream",
     "text": [
      "0\n",
      "라면\n",
      "1\n",
      "김밥\n",
      "2\n",
      "돈까스\n"
     ]
    }
   ],
   "source": [
    "menus = ['라면', '김밥', '돈까스']\n",
    "\n",
    "for idx, menu in enumerate(menus):\n",
    "    print(idx)\n",
    "    print(menu)"
   ]
  },
  {
   "cell_type": "markdown",
   "id": "1b2c18f3-d1eb-4c6d-ba34-30119138b905",
   "metadata": {},
   "source": [
    "## dictionary 반복\n",
    "\n",
    "1. for key in dict:\n",
    "2. for key in dict.keys():\n",
    "3. for value in dict.values():\n",
    "4. for key, value in dict.items():"
   ]
  },
  {
   "cell_type": "code",
   "execution_count": 64,
   "id": "b839f3f8-a5f8-4728-9790-7e6702737520",
   "metadata": {},
   "outputs": [],
   "source": [
    "info = {\n",
    "    'name': 'sanghun',\n",
    "    'location': 'seoul',\n",
    "    'phone': '010-1234-1234',\n",
    "}"
   ]
  },
  {
   "cell_type": "code",
   "execution_count": 69,
   "id": "51712f15-3c27-42fc-8c54-b611428cb384",
   "metadata": {},
   "outputs": [
    {
     "name": "stdout",
     "output_type": "stream",
     "text": [
      "name\n",
      "sanghun\n",
      "location\n",
      "seoul\n",
      "phone\n",
      "010-1234-1234\n"
     ]
    }
   ],
   "source": [
    "for i in info:\n",
    "    print(i)\n",
    "    print(info[i])"
   ]
  },
  {
   "cell_type": "code",
   "execution_count": 70,
   "id": "07685271-300f-476b-b916-04712caa9c61",
   "metadata": {},
   "outputs": [],
   "source": [
    "blood_type = {\n",
    "    'A': 5,\n",
    "    'B': 4,\n",
    "    'O': 2,\n",
    "    'AB': 3,\n",
    "}"
   ]
  },
  {
   "cell_type": "code",
   "execution_count": 72,
   "id": "747911cd-6432-46a0-a4d9-6ec1b0941bd8",
   "metadata": {},
   "outputs": [
    {
     "name": "stdout",
     "output_type": "stream",
     "text": [
      "혈액형 목록은 다음과 같습니다.\n",
      "A\n",
      "B\n",
      "O\n",
      "AB\n"
     ]
    }
   ],
   "source": [
    " print('혈액형 목록은 다음과 같습니다.')\n",
    "for key in blood_type:\n",
    "    print(key)"
   ]
  },
  {
   "cell_type": "code",
   "execution_count": 73,
   "id": "94ef5461-fb60-4d67-8463-92f6b7253895",
   "metadata": {},
   "outputs": [
    {
     "name": "stdout",
     "output_type": "stream",
     "text": [
      "혈액형 목록은 다음과 같습니다.\n",
      "A\n",
      "B\n",
      "O\n",
      "AB\n"
     ]
    }
   ],
   "source": [
    " print('혈액형 목록은 다음과 같습니다.')\n",
    "for key in blood_type.keys():\n",
    "    print(key)"
   ]
  },
  {
   "cell_type": "code",
   "execution_count": 80,
   "id": "9054423f-29ce-43c6-9bcf-9e71c608e1fe",
   "metadata": {},
   "outputs": [
    {
     "name": "stdout",
     "output_type": "stream",
     "text": [
      "총인원은 14명입니다.\n"
     ]
    }
   ],
   "source": [
    "result = 0\n",
    "\n",
    "for value in blood_type.values():\n",
    "    result = result + value\n",
    "\n",
    "print(f'총인원은 {result}명입니다.')"
   ]
  },
  {
   "cell_type": "code",
   "execution_count": 96,
   "id": "0ae5a211-891c-4854-b395-a9c88bfa992f",
   "metadata": {},
   "outputs": [
    {
     "name": "stdout",
     "output_type": "stream",
     "text": [
      "A 5\n",
      "B 4\n",
      "O 2\n",
      "AB 3\n"
     ]
    }
   ],
   "source": [
    "for key, value in blood_type.items():\n",
    "    print(key, value)"
   ]
  },
  {
   "cell_type": "code",
   "execution_count": 97,
   "id": "74ed6ebe-f836-4d8a-bb42-e6106c5cfcac",
   "metadata": {},
   "outputs": [
    {
     "name": "stdout",
     "output_type": "stream",
     "text": [
      "A형은 5명입니다.\n",
      "B형은 4명입니다.\n",
      "O형은 2명입니다.\n",
      "AB형은 3명입니다.\n"
     ]
    }
   ],
   "source": [
    "for key, value in blood_type.items():\n",
    "    print(f'{key}형은 {value}명입니다.')"
   ]
  },
  {
   "cell_type": "code",
   "execution_count": 90,
   "id": "772129fc-a889-42d3-9d9f-918b037b39c4",
   "metadata": {},
   "outputs": [
    {
     "name": "stdout",
     "output_type": "stream",
     "text": [
      "('A', 5)\n",
      "('B', 4)\n",
      "('O', 2)\n",
      "('AB', 3)\n"
     ]
    }
   ],
   "source": [
    "for item in blood_type.items():\n",
    "    print(item)\n",
    "print(item[1])"
   ]
  },
  {
   "cell_type": "code",
   "execution_count": 83,
   "id": "b1e15ea5-1823-46f1-a0c8-b31f3935eb58",
   "metadata": {},
   "outputs": [
    {
     "data": {
      "text/plain": [
       "dict_items([('A', 5), ('B', 4), ('O', 2), ('AB', 3)])"
      ]
     },
     "execution_count": 83,
     "metadata": {},
     "output_type": "execute_result"
    }
   ],
   "source": [
    "blood_type.items()"
   ]
  },
  {
   "cell_type": "markdown",
   "id": "a3659c2d-ca3a-417d-a9de-c1fd90185b62",
   "metadata": {},
   "source": [
    "### break\n",
    "\n",
    "반복문을 종료시키는 키워드"
   ]
  },
  {
   "cell_type": "code",
   "execution_count": 98,
   "id": "08afab97-251f-4f3c-b565-2666d2c2dfa1",
   "metadata": {},
   "outputs": [
    {
     "name": "stdout",
     "output_type": "stream",
     "text": [
      "0\n",
      "1\n",
      "2\n",
      "3\n",
      "4\n",
      "5\n",
      "6\n",
      "7\n",
      "8\n",
      "9\n",
      "10\n",
      "10 넘었어\n"
     ]
    }
   ],
   "source": [
    "for i in range(100):\n",
    "    if i > 10:\n",
    "        print('10 넘었어')\n",
    "        break\n",
    "    print(i)"
   ]
  },
  {
   "cell_type": "code",
   "execution_count": 104,
   "id": "f5a74ee4-a8c9-4267-b8f9-1614f6c00c9b",
   "metadata": {},
   "outputs": [
    {
     "name": "stdout",
     "output_type": "stream",
     "text": [
      "보리\n",
      "보리\n",
      "보리\n",
      "보리\n",
      "쌀\n",
      "잡았다!\n"
     ]
    }
   ],
   "source": [
    "rice = ['보리', '보리', '보리', '보리', '쌀', '보리', '보리']\n",
    "#보리, 보리, 보리, 보리, 쌀, 잡았다! => X\n",
    "\n",
    "for r in rice:\n",
    "    print(r)\n",
    "    if r == '쌀':\n",
    "        print('잡았다!')\n",
    "        break\n",
    "    \n",
    "    "
   ]
  },
  {
   "cell_type": "markdown",
   "id": "a4ee9d1d-4424-4352-bcae-194fce37d920",
   "metadata": {},
   "source": [
    "### continue\n",
    "\n",
    "continue 이후의 코드를 실행하지 않고 다음 반복을 진행"
   ]
  },
  {
   "cell_type": "code",
   "execution_count": 108,
   "id": "19a6ec35-d602-4451-8d0e-308caf0f804e",
   "metadata": {},
   "outputs": [
    {
     "name": "stdout",
     "output_type": "stream",
     "text": [
      "0\n",
      "2\n",
      "4\n",
      "6\n",
      "8\n"
     ]
    }
   ],
   "source": [
    "for i in range(10):\n",
    "    if i % 2:\n",
    "        continue\n",
    "    print(i)"
   ]
  },
  {
   "cell_type": "code",
   "execution_count": 114,
   "id": "4ebc6875-2f73-448f-8803-472b2d8d0b24",
   "metadata": {},
   "outputs": [
    {
     "name": "stdout",
     "output_type": "stream",
     "text": [
      "35 성인입니다.\n",
      "20 성인입니다.\n",
      "40 성인입니다.\n"
     ]
    }
   ],
   "source": [
    "age = [10, 35, 20, 18, 9, 40]\n",
    "\n",
    "for a in age:\n",
    "    if a < 20:\n",
    "        continue\n",
    "    print(a, '성인입니다.')\n",
    "        "
   ]
  },
  {
   "cell_type": "markdown",
   "id": "9b247c88-ab4c-452b-a523-4b0ee7c1574f",
   "metadata": {},
   "source": [
    "### else\n",
    "\n",
    "else문은 끝까지 반복이 진행된 후 실행됩니다.\n"
   ]
  },
  {
   "cell_type": "code",
   "execution_count": 116,
   "id": "d177327b-13b9-4d3c-a8d8-95b8f5516669",
   "metadata": {},
   "outputs": [
    {
     "name": "stdout",
     "output_type": "stream",
     "text": [
      "0\n",
      "1\n",
      "2\n",
      "3\n",
      "4\n",
      "5\n",
      "6\n",
      "7\n",
      "8\n",
      "9\n",
      "break 못 만남\n"
     ]
    }
   ],
   "source": [
    "for i in range(10):\n",
    "    if i > 100:\n",
    "        break\n",
    "    print(i)\n",
    "else:\n",
    "    print('break 못 만남')"
   ]
  },
  {
   "cell_type": "code",
   "execution_count": 118,
   "id": "c9a91231-382e-4203-953f-d3b6228cf90b",
   "metadata": {},
   "outputs": [
    {
     "name": "stdout",
     "output_type": "stream",
     "text": [
      "0\n",
      "1\n",
      "2\n",
      "3\n",
      "4\n",
      "5\n"
     ]
    }
   ],
   "source": [
    "for i in range(10):\n",
    "    if i > 5:\n",
    "        break\n",
    "    print(i)\n",
    "else:\n",
    "    print('break 못 만남')"
   ]
  },
  {
   "cell_type": "code",
   "execution_count": 120,
   "id": "ac3803b8-2b66-4b34-b637-21b98317a516",
   "metadata": {},
   "outputs": [
    {
     "name": "stdout",
     "output_type": "stream",
     "text": [
      "True\n",
      "False\n"
     ]
    }
   ],
   "source": [
    "numbers = [1, 3, 5, 7, 9]\n",
    "print(3 in numbers)\n",
    "print(2 in numbers)"
   ]
  },
  {
   "cell_type": "code",
   "execution_count": 128,
   "id": "40999cd5-f37d-40b9-bbf5-6f09d1f0d33e",
   "metadata": {},
   "outputs": [
    {
     "name": "stdout",
     "output_type": "stream",
     "text": [
      "True\n"
     ]
    }
   ],
   "source": [
    "numbers = [1, 3, 5, 7, 9]\n",
    "target = 5\n",
    "\n",
    "#if문을 통해 내가 원하는 숫자가 있으면 True\n",
    "for number in numbers:\n",
    "    if number == target:\n",
    "        print('True')\n",
    "        break\n",
    "else:\n",
    "    print('False')\n",
    "    "
   ]
  },
  {
   "cell_type": "markdown",
   "id": "b574f627-c60c-47d3-ae47-4dd615771c93",
   "metadata": {},
   "source": [
    "### pass"
   ]
  },
  {
   "cell_type": "code",
   "execution_count": 130,
   "id": "07944a71-2094-415b-840b-522c086d304f",
   "metadata": {},
   "outputs": [],
   "source": [
    "if True:\n",
    "    pass"
   ]
  },
  {
   "cell_type": "markdown",
   "id": "d85ce6bd-7604-4371-9d9e-66e639c4c76f",
   "metadata": {},
   "source": [
    "### match\n",
    "\n",
    "```\n",
    "match value:\n",
    "    case 조건:\n",
    "        code\n",
    "    case 조건:\n",
    "    case _:\n",
    "        code"
   ]
  },
  {
   "cell_type": "code",
   "execution_count": 133,
   "id": "86aee808-c68d-43d4-861d-9e7765ddd537",
   "metadata": {},
   "outputs": [
    {
     "name": "stdout",
     "output_type": "stream",
     "text": [
      "Not found\n"
     ]
    }
   ],
   "source": [
    "status = 404\n",
    "\n",
    "match status:\n",
    "    case 400:\n",
    "        print('Bad request')\n",
    "    case 404:\n",
    "        print('Not found')\n",
    "    case _:\n",
    "        print('something is wrong')"
   ]
  },
  {
   "cell_type": "code",
   "execution_count": null,
   "id": "12e17889-69a2-441a-9300-30915c2e01e7",
   "metadata": {},
   "outputs": [],
   "source": []
  }
 ],
 "metadata": {
  "kernelspec": {
   "display_name": "Python 3 (ipykernel)",
   "language": "python",
   "name": "python3"
  },
  "language_info": {
   "codemirror_mode": {
    "name": "ipython",
    "version": 3
   },
   "file_extension": ".py",
   "mimetype": "text/x-python",
   "name": "python",
   "nbconvert_exporter": "python",
   "pygments_lexer": "ipython3",
   "version": "3.11.4"
  }
 },
 "nbformat": 4,
 "nbformat_minor": 5
}
