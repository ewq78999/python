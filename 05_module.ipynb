{
 "cells": [
  {
   "cell_type": "markdown",
   "id": "f46f78ba-141a-4c8a-8480-e5b947723439",
   "metadata": {},
   "source": [
    "# 1. 모듈"
   ]
  },
  {
   "cell_type": "code",
   "execution_count": 1,
   "id": "cd059460-3c49-4bf4-a2c0-ed71c4ee269d",
   "metadata": {},
   "outputs": [],
   "source": [
    "import fibo"
   ]
  },
  {
   "cell_type": "code",
   "execution_count": 2,
   "id": "9562560f-35d7-4528-afb4-63873256c2a1",
   "metadata": {},
   "outputs": [
    {
     "name": "stdout",
     "output_type": "stream",
     "text": [
      "<module 'fibo' from 'C:\\\\Users\\\\ewq78\\\\Desktop\\\\Warehouse\\\\bootcamp\\\\camp29\\\\python\\\\fibo.py'>\n"
     ]
    }
   ],
   "source": [
    "print(fibo)"
   ]
  },
  {
   "cell_type": "code",
   "execution_count": 3,
   "id": "203a6d8b-686b-43c8-bff9-f5e1a2d5f344",
   "metadata": {},
   "outputs": [
    {
     "data": {
      "text/plain": [
       "5"
      ]
     },
     "execution_count": 3,
     "metadata": {},
     "output_type": "execute_result"
    }
   ],
   "source": [
    "fibo.fib_loop(4)"
   ]
  },
  {
   "cell_type": "code",
   "execution_count": 4,
   "id": "72c4c7e0-e437-48ef-9eaa-64bda0c3106b",
   "metadata": {},
   "outputs": [
    {
     "data": {
      "text/plain": [
       "3"
      ]
     },
     "execution_count": 4,
     "metadata": {},
     "output_type": "execute_result"
    }
   ],
   "source": [
    "fibo.fib_rec(3)"
   ]
  },
  {
   "cell_type": "markdown",
   "id": "43a43bb6-6169-40fc-947e-b2f05ec9659f",
   "metadata": {},
   "source": [
    "# 2. 패키지\n",
    "\n",
    "```\n",
    "myPackage/\n",
    "    __init__.py\n",
    "    math/\n",
    "        __init__.py\n",
    "        fibo.py\n",
    "        formula.py\n",
    "```\n",
    "\n",
    "패키지 안에 __init__.py 파일이 있어야 패키지로 인식"
   ]
  },
  {
   "cell_type": "code",
   "execution_count": 15,
   "id": "0bb9e7ab-9751-496e-a215-e17bf77626d2",
   "metadata": {},
   "outputs": [],
   "source": [
    "# 패키지 폴더를 전체 추가\n",
    "import myPackage"
   ]
  },
  {
   "cell_type": "code",
   "execution_count": 16,
   "id": "ab5472e7-e551-4380-aae0-3c32d4d95c3a",
   "metadata": {},
   "outputs": [
    {
     "name": "stdout",
     "output_type": "stream",
     "text": [
      "<module 'myPackage' from 'C:\\\\Users\\\\ewq78\\\\Desktop\\\\Warehouse\\\\bootcamp\\\\camp29\\\\python\\\\myPackage\\\\__init__.py'>\n"
     ]
    }
   ],
   "source": [
    "print(myPackage)"
   ]
  },
  {
   "cell_type": "code",
   "execution_count": 17,
   "id": "e7e7d151-18cf-4e02-80eb-217fff1cfb00",
   "metadata": {},
   "outputs": [],
   "source": [
    "# 패키지에서 필요한 모듈을 꺼내오는 코드\n",
    "from myPackage.math import formula"
   ]
  },
  {
   "cell_type": "code",
   "execution_count": 18,
   "id": "80c11508-5204-4860-a7cf-826e63968f00",
   "metadata": {},
   "outputs": [
    {
     "data": {
      "text/plain": [
       "3.14"
      ]
     },
     "execution_count": 18,
     "metadata": {},
     "output_type": "execute_result"
    }
   ],
   "source": [
    "formula.pi"
   ]
  },
  {
   "cell_type": "code",
   "execution_count": 19,
   "id": "12e672a8-c269-4858-9f56-4f50e2244631",
   "metadata": {},
   "outputs": [
    {
     "data": {
      "text/plain": [
       "<function myPackage.math.formula.my_max(a, b)>"
      ]
     },
     "execution_count": 19,
     "metadata": {},
     "output_type": "execute_result"
    }
   ],
   "source": [
    "formula.my_max"
   ]
  },
  {
   "cell_type": "code",
   "execution_count": 20,
   "id": "3de6f1ec-1dce-47d6-9e25-a1903e7619f0",
   "metadata": {},
   "outputs": [
    {
     "data": {
      "text/plain": [
       "2"
      ]
     },
     "execution_count": 20,
     "metadata": {},
     "output_type": "execute_result"
    }
   ],
   "source": [
    "formula.my_max(1,2)"
   ]
  },
  {
   "cell_type": "code",
   "execution_count": 21,
   "id": "8cc2d0fa-585e-4d55-966f-d9de14ef2459",
   "metadata": {},
   "outputs": [],
   "source": [
    "# 경로에 있는 모듈이 가지고 있는 모든 변수, 함수를 추가\n",
    "from myPackage.math.fibo import *"
   ]
  },
  {
   "cell_type": "code",
   "execution_count": 22,
   "id": "f6b318e3-ad68-4407-815c-f7e07d537b71",
   "metadata": {},
   "outputs": [
    {
     "data": {
      "text/plain": [
       "89"
      ]
     },
     "execution_count": 22,
     "metadata": {},
     "output_type": "execute_result"
    }
   ],
   "source": [
    "fib_loop(10)"
   ]
  },
  {
   "cell_type": "code",
   "execution_count": 26,
   "id": "f31bd8b8-1b4d-4d28-a9bb-c34742e18b83",
   "metadata": {},
   "outputs": [
    {
     "name": "stdout",
     "output_type": "stream",
     "text": [
      "1234\n",
      "<module 'myPackage.math.formula' from 'C:\\\\Users\\\\ewq78\\\\Desktop\\\\Warehouse\\\\bootcamp\\\\camp29\\\\python\\\\myPackage\\\\math\\\\formula.py'>\n"
     ]
    }
   ],
   "source": [
    "formula = 1234\n",
    "from myPackage.math import formula as f\n",
    "\n",
    "print(formula)\n",
    "print(f)"
   ]
  },
  {
   "cell_type": "markdown",
   "id": "47137bce-4ee4-4b7f-ab74-0e1b42bf6693",
   "metadata": {},
   "source": [
    "# 3. 파이썬 내장 패키지"
   ]
  },
  {
   "cell_type": "markdown",
   "id": "aadcb0c7-5645-443b-84ef-3757b2f9ba5c",
   "metadata": {},
   "source": [
    "## 3.1 math"
   ]
  },
  {
   "cell_type": "code",
   "execution_count": 27,
   "id": "fcac805f-df0c-46eb-abbf-8214e2990b48",
   "metadata": {},
   "outputs": [],
   "source": [
    "import math"
   ]
  },
  {
   "cell_type": "code",
   "execution_count": 28,
   "id": "e96e1281-0e9f-42ad-abbb-759961a807d3",
   "metadata": {},
   "outputs": [
    {
     "data": {
      "text/plain": [
       "3.141592653589793"
      ]
     },
     "execution_count": 28,
     "metadata": {},
     "output_type": "execute_result"
    }
   ],
   "source": [
    "math.pi"
   ]
  },
  {
   "cell_type": "code",
   "execution_count": 29,
   "id": "43529827-dff1-400e-a14a-0f987a07a733",
   "metadata": {},
   "outputs": [
    {
     "data": {
      "text/plain": [
       "2.718281828459045"
      ]
     },
     "execution_count": 29,
     "metadata": {},
     "output_type": "execute_result"
    }
   ],
   "source": [
    "math.e"
   ]
  },
  {
   "cell_type": "code",
   "execution_count": 30,
   "id": "31a16b3d-59d1-4055-9d16-cff19fab58c4",
   "metadata": {},
   "outputs": [],
   "source": [
    "pi = 3.141492"
   ]
  },
  {
   "cell_type": "code",
   "execution_count": 31,
   "id": "448bbd8d-c710-4148-8084-581dd44eb77a",
   "metadata": {},
   "outputs": [
    {
     "data": {
      "text/plain": [
       "4"
      ]
     },
     "execution_count": 31,
     "metadata": {},
     "output_type": "execute_result"
    }
   ],
   "source": [
    "math.ceil(pi)"
   ]
  },
  {
   "cell_type": "code",
   "execution_count": 32,
   "id": "939fc203-224c-4b46-9d3a-f505a2821ae0",
   "metadata": {},
   "outputs": [
    {
     "data": {
      "text/plain": [
       "3"
      ]
     },
     "execution_count": 32,
     "metadata": {},
     "output_type": "execute_result"
    }
   ],
   "source": [
    "math.floor(pi)"
   ]
  },
  {
   "cell_type": "code",
   "execution_count": 33,
   "id": "f225e520-c271-4041-9e8f-c979978ff33e",
   "metadata": {},
   "outputs": [
    {
     "data": {
      "text/plain": [
       "3.0"
      ]
     },
     "execution_count": 33,
     "metadata": {},
     "output_type": "execute_result"
    }
   ],
   "source": [
    "math.sqrt(9)"
   ]
  },
  {
   "cell_type": "markdown",
   "id": "5be76bd1-5dc3-4182-a4fd-b2b59138b33c",
   "metadata": {},
   "source": [
    "## 3.2 random"
   ]
  },
  {
   "cell_type": "code",
   "execution_count": 34,
   "id": "0e0485f8-3016-4869-a79a-7d4855a335b6",
   "metadata": {},
   "outputs": [],
   "source": [
    "import random"
   ]
  },
  {
   "cell_type": "code",
   "execution_count": 36,
   "id": "b5ffe013-865e-4124-8f81-3d6606f789c4",
   "metadata": {},
   "outputs": [
    {
     "data": {
      "text/plain": [
       "0.6375584781408948"
      ]
     },
     "execution_count": 36,
     "metadata": {},
     "output_type": "execute_result"
    }
   ],
   "source": [
    "random.random()"
   ]
  },
  {
   "cell_type": "code",
   "execution_count": 37,
   "id": "68fc9a29-5cf7-4092-b656-e71bae8d786e",
   "metadata": {},
   "outputs": [
    {
     "data": {
      "text/plain": [
       "9"
      ]
     },
     "execution_count": 37,
     "metadata": {},
     "output_type": "execute_result"
    }
   ],
   "source": [
    "random.randint(1, 10)"
   ]
  },
  {
   "cell_type": "code",
   "execution_count": 38,
   "id": "fb861130-f415-4b7a-815b-37b889d976bb",
   "metadata": {},
   "outputs": [
    {
     "data": {
      "text/plain": [
       "0.13436424411240122"
      ]
     },
     "execution_count": 38,
     "metadata": {},
     "output_type": "execute_result"
    }
   ],
   "source": [
    "# seed\n",
    "random.seed(1)\n",
    "random.random()"
   ]
  },
  {
   "cell_type": "code",
   "execution_count": 51,
   "id": "5a9e2016-ee38-4f76-aac3-4bf2646c32c4",
   "metadata": {},
   "outputs": [
    {
     "name": "stdout",
     "output_type": "stream",
     "text": [
      "[5, 2, 4, 3, 1]\n"
     ]
    }
   ],
   "source": [
    "# shuffle\n",
    "a = [1, 2, 3, 4, 5]\n",
    "random.shuffle(a)\n",
    "print(a)"
   ]
  },
  {
   "cell_type": "code",
   "execution_count": 63,
   "id": "e8baa550-282c-4bde-ace9-74dc90d3117c",
   "metadata": {},
   "outputs": [
    {
     "name": "stdout",
     "output_type": "stream",
     "text": [
      "2\n"
     ]
    }
   ],
   "source": [
    "# choice\n",
    "a = ['가위','바위','보',1, 2, 3, 4, 5]\n",
    "print(random.choice(a))"
   ]
  },
  {
   "cell_type": "code",
   "execution_count": 64,
   "id": "1b10194b-d1c3-4509-b5ab-eff36eb4089c",
   "metadata": {},
   "outputs": [
    {
     "data": {
      "text/plain": [
       "[26, 27, 43, 12, 24, 36]"
      ]
     },
     "execution_count": 64,
     "metadata": {},
     "output_type": "execute_result"
    }
   ],
   "source": [
    "# sample\n",
    "a = range(1, 46)\n",
    "random.sample(a, 6)"
   ]
  },
  {
   "cell_type": "markdown",
   "id": "9931cf07-155a-40ff-bf24-a68e72e184b6",
   "metadata": {},
   "source": [
    "## 3.3 datetime"
   ]
  },
  {
   "cell_type": "code",
   "execution_count": 67,
   "id": "befa85f2-7a02-4b61-b836-213f64c7bb13",
   "metadata": {},
   "outputs": [],
   "source": [
    "from datetime import datetime"
   ]
  },
  {
   "cell_type": "code",
   "execution_count": 68,
   "id": "1fd7b4f3-7cdc-4893-a2bf-b55c62eba6aa",
   "metadata": {},
   "outputs": [
    {
     "name": "stdout",
     "output_type": "stream",
     "text": [
      "2023-07-31 16:21:30.606000\n"
     ]
    }
   ],
   "source": [
    "now = datetime.now()\n",
    "print(now)"
   ]
  },
  {
   "cell_type": "code",
   "execution_count": 71,
   "id": "f894d075-f90f-470d-85c2-c91867a76f6c",
   "metadata": {},
   "outputs": [
    {
     "name": "stdout",
     "output_type": "stream",
     "text": [
      "2023-07-31 16:23:12.985930\n"
     ]
    }
   ],
   "source": [
    "today = datetime.today()\n",
    "print(today)"
   ]
  },
  {
   "cell_type": "code",
   "execution_count": 73,
   "id": "c0fa4429-cd28-4885-941c-0ca906021c3c",
   "metadata": {},
   "outputs": [
    {
     "name": "stdout",
     "output_type": "stream",
     "text": [
      "2023-07-31 07:23:20.435046\n"
     ]
    }
   ],
   "source": [
    "utc = datetime.utcnow()\n",
    "print(utc)"
   ]
  },
  {
   "cell_type": "code",
   "execution_count": 76,
   "id": "883810f3-f268-498c-8d51-ed13cb9504fa",
   "metadata": {},
   "outputs": [
    {
     "data": {
      "text/plain": [
       "'2023년'"
      ]
     },
     "execution_count": 76,
     "metadata": {},
     "output_type": "execute_result"
    }
   ],
   "source": [
    "now.strftime('%Y년')"
   ]
  },
  {
   "cell_type": "code",
   "execution_count": 77,
   "id": "b751d3fc-159f-41c5-9ecd-271c67271591",
   "metadata": {},
   "outputs": [
    {
     "data": {
      "text/plain": [
       "'07월'"
      ]
     },
     "execution_count": 77,
     "metadata": {},
     "output_type": "execute_result"
    }
   ],
   "source": [
    "now.strftime('%m월')"
   ]
  },
  {
   "cell_type": "code",
   "execution_count": 82,
   "id": "57cc5fba-05d7-4856-ba3e-27318a368026",
   "metadata": {},
   "outputs": [
    {
     "data": {
      "text/plain": [
       "'23/07/31'"
      ]
     },
     "execution_count": 82,
     "metadata": {},
     "output_type": "execute_result"
    }
   ],
   "source": [
    "now.strftime('%y/%m/%d')"
   ]
  },
  {
   "cell_type": "code",
   "execution_count": 83,
   "id": "213e5a50-7028-4991-876c-c7eea6d2fbb6",
   "metadata": {},
   "outputs": [
    {
     "data": {
      "text/plain": [
       "2023"
      ]
     },
     "execution_count": 83,
     "metadata": {},
     "output_type": "execute_result"
    }
   ],
   "source": [
    "now.year"
   ]
  },
  {
   "cell_type": "code",
   "execution_count": 84,
   "id": "ea21115c-3b6d-4b7d-9df6-780d519ed78b",
   "metadata": {},
   "outputs": [
    {
     "data": {
      "text/plain": [
       "31"
      ]
     },
     "execution_count": 84,
     "metadata": {},
     "output_type": "execute_result"
    }
   ],
   "source": [
    "now.day"
   ]
  },
  {
   "cell_type": "code",
   "execution_count": 85,
   "id": "29ef776f-43eb-43fe-9856-c4a505203c52",
   "metadata": {},
   "outputs": [
    {
     "data": {
      "text/plain": [
       "0"
      ]
     },
     "execution_count": 85,
     "metadata": {},
     "output_type": "execute_result"
    }
   ],
   "source": [
    "# weekday => 0~6, 월~일\n",
    "now.weekday()"
   ]
  },
  {
   "cell_type": "code",
   "execution_count": 95,
   "id": "cf1759f3-fdfb-40f4-aa29-b8dcf1d4a797",
   "metadata": {},
   "outputs": [
    {
     "name": "stdout",
     "output_type": "stream",
     "text": [
      "2023-01-01 00:00:00\n"
     ]
    }
   ],
   "source": [
    "birth = datetime(2023, 1, 1)\n",
    "print(birth)"
   ]
  },
  {
   "cell_type": "code",
   "execution_count": 96,
   "id": "fd2bb388-a1ba-4706-936a-14ec087e7cf1",
   "metadata": {},
   "outputs": [],
   "source": [
    "from datetime import timedelta"
   ]
  },
  {
   "cell_type": "code",
   "execution_count": 103,
   "id": "3c9fb716-1328-45c5-bba4-24dae615508f",
   "metadata": {},
   "outputs": [
    {
     "name": "stdout",
     "output_type": "stream",
     "text": [
      "3 days, 0:00:00\n"
     ]
    }
   ],
   "source": [
    "future = timedelta(days=3)\n",
    "print(future)"
   ]
  },
  {
   "cell_type": "code",
   "execution_count": 104,
   "id": "c9207b85-df51-45d1-9f51-bf62813c4149",
   "metadata": {},
   "outputs": [
    {
     "data": {
      "text/plain": [
       "datetime.timedelta(days=6)"
      ]
     },
     "execution_count": 104,
     "metadata": {},
     "output_type": "execute_result"
    }
   ],
   "source": [
    "birth + future"
   ]
  },
  {
   "cell_type": "code",
   "execution_count": 105,
   "id": "6fdfc8bc-e026-4d8f-a21f-7bcf6b53cf0d",
   "metadata": {},
   "outputs": [],
   "source": [
    "chrismas = datetime(2023, 12, 25)"
   ]
  },
  {
   "cell_type": "code",
   "execution_count": 106,
   "id": "11f3f258-3e33-4730-be6f-7ac27a1c0286",
   "metadata": {},
   "outputs": [
    {
     "data": {
      "text/plain": [
       "datetime.timedelta(days=146, seconds=27509, microseconds=394000)"
      ]
     },
     "execution_count": 106,
     "metadata": {},
     "output_type": "execute_result"
    }
   ],
   "source": [
    "chrismas - now"
   ]
  },
  {
   "cell_type": "code",
   "execution_count": null,
   "id": "bf8f8950-28f1-4346-8d21-97b0d42c14c4",
   "metadata": {},
   "outputs": [],
   "source": []
  }
 ],
 "metadata": {
  "kernelspec": {
   "display_name": "Python 3 (ipykernel)",
   "language": "python",
   "name": "python3"
  },
  "language_info": {
   "codemirror_mode": {
    "name": "ipython",
    "version": 3
   },
   "file_extension": ".py",
   "mimetype": "text/x-python",
   "name": "python",
   "nbconvert_exporter": "python",
   "pygments_lexer": "ipython3",
   "version": "3.11.4"
  }
 },
 "nbformat": 4,
 "nbformat_minor": 5
}
